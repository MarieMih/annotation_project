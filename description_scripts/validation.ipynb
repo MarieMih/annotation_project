{
 "cells": [
  {
   "cell_type": "code",
   "execution_count": 50,
   "metadata": {},
   "outputs": [],
   "source": [
    "import sys\n",
    "import subprocess\n",
    "import os\n",
    "import pandas as pd\n",
    "import Bio\n",
    "from Bio import SeqIO\n",
    "import requests as r\n",
    "from io import StringIO\n",
    "import re\n",
    "import matplotlib.pyplot as plt"
   ]
  },
  {
   "cell_type": "code",
   "execution_count": null,
   "metadata": {},
   "outputs": [],
   "source": [
    "input_file = sys.argv[1]"
   ]
  },
  {
   "cell_type": "code",
   "execution_count": 4,
   "metadata": {},
   "outputs": [],
   "source": [
    "input_file = \"/storage/data1/marmi/annotation_project/crohn/coli1/annotation/V350171692_Run204_L02_121_bakta/V350171692_Run204_L02_121_extended.tsv\""
   ]
  },
  {
   "cell_type": "code",
   "execution_count": 5,
   "metadata": {},
   "outputs": [],
   "source": [
    "pth = os.path.split(input_file)[0]"
   ]
  },
  {
   "cell_type": "code",
   "execution_count": 14,
   "metadata": {},
   "outputs": [],
   "source": [
    "sample = pd.read_csv(input_file, sep = \"\\t\", header = 0)"
   ]
  },
  {
   "cell_type": "code",
   "execution_count": 15,
   "metadata": {},
   "outputs": [],
   "source": [
    "sample.fillna(\"\", inplace=True)"
   ]
  },
  {
   "cell_type": "code",
   "execution_count": 26,
   "metadata": {},
   "outputs": [],
   "source": [
    "sample_protein = input_file.rpartition('.')[0].replace(\"_extended\", \"\") + \".faa\"\n",
    "sample_hprotein = input_file.rpartition('.')[0].replace(\"_extended\", \"\") + \".hypotheticals.faa\""
   ]
  },
  {
   "cell_type": "code",
   "execution_count": 23,
   "metadata": {},
   "outputs": [],
   "source": [
    "def parse_fasta(file_path):\n",
    "    \"\"\"\n",
    "    Parses a FASTA file and returns a dictionary of sequences keyed by their headers.\n",
    "    \"\"\"\n",
    "    seq_dict = {}\n",
    "    for record in SeqIO.parse(file_path, \"fasta\"):\n",
    "        seq_dict[record.id] = record\n",
    "    return seq_dict"
   ]
  },
  {
   "cell_type": "code",
   "execution_count": 24,
   "metadata": {},
   "outputs": [],
   "source": [
    "def write_fasta(sequences, output_path):\n",
    "    \"\"\"\n",
    "    Writes a list of sequences to a FASTA file.\n",
    "    \"\"\"\n",
    "    with open(output_path, \"w\") as output_handle:\n",
    "        SeqIO.write(sequences, output_handle, \"fasta\")"
   ]
  },
  {
   "cell_type": "code",
   "execution_count": 18,
   "metadata": {},
   "outputs": [],
   "source": [
    "sample = sample[sample[\"Entry UniProtKB\"] != \"\"]"
   ]
  },
  {
   "cell_type": "code",
   "execution_count": 20,
   "metadata": {},
   "outputs": [],
   "source": [
    "sample = sample[[\"Locus Tag\",\"Entry UniProtKB\"]]"
   ]
  },
  {
   "cell_type": "code",
   "execution_count": 21,
   "metadata": {},
   "outputs": [],
   "source": [
    "sample.columns = ['old_id', 'new_id']\n",
    "mapping_dict = pd.Series(sample.new_id.values, index=sample.old_id).to_dict()"
   ]
  },
  {
   "cell_type": "code",
   "execution_count": 39,
   "metadata": {},
   "outputs": [
    {
     "data": {
      "text/plain": [
       "4726"
      ]
     },
     "execution_count": 39,
     "metadata": {},
     "output_type": "execute_result"
    }
   ],
   "source": [
    "fasta_sequences = SeqIO.parse(open(sample_protein), 'fasta')\n",
    "\n",
    "updated_sequences = []\n",
    "\n",
    "for seq_record in fasta_sequences:\n",
    "    old_id = seq_record.id\n",
    "    if old_id in mapping_dict:\n",
    "        new_id = mapping_dict[old_id]\n",
    "        seq_record.id = old_id + \"|\" +new_id\n",
    "        seq_record.description = seq_record.description.replace(old_id, new_id)\n",
    "        updated_sequences.append(seq_record)\n",
    "\n",
    "fasta_sequences = SeqIO.parse(open(sample_hprotein), 'fasta')\n",
    "\n",
    "for seq_record in fasta_sequences:\n",
    "    old_id = seq_record.id\n",
    "    if old_id in mapping_dict:\n",
    "        new_id = mapping_dict[old_id]\n",
    "        seq_record.id = old_id + \"|\" +new_id\n",
    "        seq_record.description = seq_record.description.replace(old_id, new_id)\n",
    "        updated_sequences.append(seq_record)\n",
    "\n",
    "SeqIO.write(updated_sequences, sample_protein.rpartition('.')[0]+\".to_validate.faa\", 'fasta')"
   ]
  },
  {
   "cell_type": "code",
   "execution_count": 37,
   "metadata": {},
   "outputs": [],
   "source": [
    "with open(input_file.rpartition('.')[0].replace(\"_extended\",\"\")+\".ids.csv\", \"w\") as f:\n",
    "    f.write(\",\".join(sample['new_id'].values.tolist()))"
   ]
  },
  {
   "cell_type": "code",
   "execution_count": 44,
   "metadata": {},
   "outputs": [],
   "source": [
    "# updated_sequences = []\n",
    "# for i in range(len(sample['new_id'])):\n",
    "#     cID=sample['new_id'].iloc[i]\n",
    "#     baseUrl=\"http://www.uniprot.org/uniprot/\"\n",
    "#     currentUrl=baseUrl+cID+\".fasta\"\n",
    "#     response = r.post(currentUrl)\n",
    "#     cData=''.join(response.text)\n",
    "#     Seq=StringIO(cData)\n",
    "#     pSeq=list(SeqIO.parse(Seq,'fasta'))\n",
    "#     updated_sequences.append(pSeq)\n",
    "\n",
    "# SeqIO.write(updated_sequences, sample_protein.rpartition('.')[0]+\".uniprot.faa\", 'fasta')"
   ]
  },
  {
   "cell_type": "code",
   "execution_count": 46,
   "metadata": {},
   "outputs": [
    {
     "name": "stdout",
     "output_type": "stream",
     "text": [
      "2024-07-25 16:16:33: ID mapping has begun.\n",
      "Auto determined \"full id\" as: False\n"
     ]
    },
    {
     "name": "stderr",
     "output_type": "stream",
     "text": [
      "Getting valid UniProt IDs: 100%|==========| 1/1 [00:07<00:00,  7.86s/it]\n",
      "Getting valid UniProt IDs: 100%|==========| 1/1 [00:08<00:00,  8.48s/it]\n",
      "Getting valid UniProt IDs: 100%|==========| 1/1 [00:08<00:00,  8.56s/it]\n",
      "Getting valid UniProt IDs: 100%|==========| 1/1 [00:08<00:00,  8.62s/it]\n",
      "Getting valid UniProt IDs: 100%|==========| 1/1 [00:08<00:00,  8.70s/it]\n",
      "Getting valid UniProt IDs: 100%|==========| 1/1 [00:08<00:00,  8.72s/it]\n",
      "Getting valid UniProt IDs: 100%|==========| 1/1 [00:08<00:00,  8.75s/it]\n",
      "Getting valid UniProt IDs: 100%|==========| 1/1 [00:08<00:00,  8.88s/it]\n"
     ]
    },
    {
     "name": "stdout",
     "output_type": "stream",
     "text": [
      "2024-07-25 16:16:42: 4720 UniProt IDs identified as valid.\n",
      "/storage/data1/marmi/annotation_project/crohn/coli1/annotation/V350171692_Run204_L02_121_bakta/kb/uniprotinfo.fasta not found. Will perform mapping for all IDs.\n",
      "Information already gathered for 0 ids. Still missing for 4719.\n"
     ]
    },
    {
     "name": "stderr",
     "output_type": "stream",
     "text": [
      "Checking which IDs are missing information.: 100%|██████████| 4720/4720 [00:00<00:00, 5090541.24it/s]\n",
      "Building FASTA from 4719 IDs.: 100%|██████████| 5/5 [00:18<00:00,  3.73s/it]\n",
      "Checking which IDs are missing information.: 100%|██████████| 4720/4720 [00:00<00:00, 33215.74it/s]\n",
      "Building FASTA from 8 IDs.:   0%|          | 0/1 [00:00<?, ?it/s]"
     ]
    },
    {
     "name": "stdout",
     "output_type": "stream",
     "text": [
      "Information already gathered for 2355 ids. Still missing for 8.\n"
     ]
    },
    {
     "name": "stderr",
     "output_type": "stream",
     "text": [
      "Building FASTA from 8 IDs.: 100%|██████████| 1/1 [00:03<00:00,  3.20s/it]\n",
      "Checking which IDs are missing information.: 100%|██████████| 4720/4720 [00:00<00:00, 34881.71it/s]\n",
      "Building FASTA from 8 IDs.:   0%|          | 0/1 [00:00<?, ?it/s]"
     ]
    },
    {
     "name": "stdout",
     "output_type": "stream",
     "text": [
      "Information already gathered for 2355 ids. Still missing for 8.\n"
     ]
    },
    {
     "name": "stderr",
     "output_type": "stream",
     "text": [
      "Building FASTA from 8 IDs.: 100%|██████████| 1/1 [00:03<00:00,  3.19s/it]\n",
      "Checking which IDs are missing information.: 100%|██████████| 4720/4720 [00:00<00:00, 32646.47it/s]\n",
      "Building FASTA from 8 IDs.:   0%|          | 0/1 [00:00<?, ?it/s]"
     ]
    },
    {
     "name": "stdout",
     "output_type": "stream",
     "text": [
      "Information already gathered for 2355 ids. Still missing for 8.\n"
     ]
    },
    {
     "name": "stderr",
     "output_type": "stream",
     "text": [
      "Building FASTA from 8 IDs.: 100%|██████████| 1/1 [00:03<00:00,  3.47s/it]\n",
      "Checking which IDs are missing information.: 100%|██████████| 4720/4720 [00:00<00:00, 33370.95it/s]\n",
      "Building FASTA from 8 IDs.:   0%|          | 0/1 [00:00<?, ?it/s]"
     ]
    },
    {
     "name": "stdout",
     "output_type": "stream",
     "text": [
      "Information already gathered for 2355 ids. Still missing for 8.\n",
      "Maximum iterations were made. Results related to 8 IDs were not obtained. IDs with missing information are available at /storage/data1/marmi/annotation_project/crohn/coli1/annotation/V350171692_Run204_L02_121_bakta/kb/ids_unmapped.txt and information obtained is available at /storage/data1/marmi/annotation_project/crohn/coli1/annotation/V350171692_Run204_L02_121_bakta/kb/uniprotinfo.fasta\n",
      "2024-07-25 16:17:14: UPIMAPI analysis finished in 00h00m41s\n"
     ]
    },
    {
     "name": "stderr",
     "output_type": "stream",
     "text": [
      "Building FASTA from 8 IDs.: 100%|██████████| 1/1 [00:03<00:00,  3.20s/it]\n"
     ]
    }
   ],
   "source": [
    "result_anno = subprocess.run(['upimapi', '-i', input_file.rpartition('.')[0].replace(\"_extended\",\"\")+\".ids.csv\", \\\n",
    "                                         '-o', os.path.split(input_file)[0]+\"/kb\", \\\n",
    "                                         '--fasta', \\\n",
    "                                         '-db', 'uniprot'], \\\n",
    "                                       check = True)"
   ]
  },
  {
   "cell_type": "code",
   "execution_count": null,
   "metadata": {},
   "outputs": [],
   "source": [
    "result_makedb = subprocess.run(['makeblastdb', '-in', os.path.split(input_file)[0]+\"/kb/uniprotinfo.fasta\", \\\n",
    "                                         '-out', os.path.split(input_file)[0]+\"/kb/db\", \\\n",
    "                                         '-dbtype', 'prot'], \\\n",
    "                                check = True)"
   ]
  },
  {
   "cell_type": "code",
   "execution_count": null,
   "metadata": {},
   "outputs": [],
   "source": [
    "result_blast = subprocess.run(['blastp', '-query', sample_protein.rpartition('.')[0]+\".to_validate.faa\", \\\n",
    "                                         '-db', os.path.split(input_file)[0]+\"/kb/db\", \\\n",
    "                                         '-out', sample_protein.rpartition('.')[0]+\".blast\", \\\n",
    "                                         '-outfmt', '6'], \\\n",
    "                                check = True)"
   ]
  },
  {
   "cell_type": "code",
   "execution_count": 48,
   "metadata": {},
   "outputs": [
    {
     "name": "stdout",
     "output_type": "stream",
     "text": [
      "Filtered results written to /storage/data1/marmi/annotation_project/crohn/coli1/annotation/V350171692_Run204_L02_121_bakta/filtered_results.out\n"
     ]
    }
   ],
   "source": [
    "\n",
    "# Define the input and output file paths\n",
    "blast_file = sample_protein.rpartition('.')[0]+\".blast\"\n",
    "output_file_blast = sample_protein.rpartition('.')[0]+\".filtered.blast\"\n",
    "\n",
    "# Function to extract the ID after the first `|` from the query and subject\n",
    "def extract_ids(query_id, subject_id):\n",
    "    query_match = re.search(r'\\|([^|]+)', query_id)\n",
    "    subject_match = re.search(r'\\|([^|]+)\\|', subject_id)\n",
    "    if query_match and subject_match:\n",
    "        return query_match.group(1), subject_match.group(1)\n",
    "    return None, None\n",
    "\n",
    "# Open the input and output files\n",
    "with open(blast_file, 'r') as infile, open(output_file_blast, 'w') as outfile:\n",
    "    for line in infile:\n",
    "        columns = line.strip().split()\n",
    "        if len(columns) < 3:\n",
    "            continue\n",
    "        query_id = columns[0]\n",
    "        subject_id = columns[1]\n",
    "        query_extract, subject_extract = extract_ids(query_id, subject_id)\n",
    "        if query_extract and query_extract == subject_extract:\n",
    "            outfile.write(line)\n",
    "\n",
    "print(f\"Filtered results written to {output_file_blast}\")\n"
   ]
  },
  {
   "cell_type": "code",
   "execution_count": 49,
   "metadata": {},
   "outputs": [],
   "source": [
    "blast = pd.read_csv(output_file_blast, sep=\"\\t\", header = None)"
   ]
  },
  {
   "cell_type": "code",
   "execution_count": 61,
   "metadata": {},
   "outputs": [],
   "source": [
    "blast = blast.drop_duplicates(subset=0, keep='first')"
   ]
  },
  {
   "cell_type": "code",
   "execution_count": 64,
   "metadata": {},
   "outputs": [
    {
     "data": {
      "image/png": "[encoded data removed]",
      "text/plain": [
       "<Figure size 1000x600 with 1 Axes>"
      ]
     },
     "metadata": {},
     "output_type": "display_data"
    }
   ],
   "source": [
    "Identity = blast.iloc[:, 2]\n",
    "\n",
    "# Plot the boxplot\n",
    "plt.figure(figsize=(10, 6))\n",
    "plt.boxplot(Identity)\n",
    "plt.title('Identity')\n",
    "plt.ylabel('Percent')\n",
    "plt.xlabel('Values')\n",
    "plt.grid(True)\n",
    "plt.show()"
   ]
  },
  {
   "cell_type": "code",
   "execution_count": null,
   "metadata": {},
   "outputs": [],
   "source": []
  }
 ],
 "metadata": {
  "kernelspec": {
   "display_name": "run",
   "language": "python",
   "name": "python3"
  },
  "language_info": {
   "codemirror_mode": {
    "name": "ipython",
    "version": 3
   },
   "file_extension": ".py",
   "mimetype": "text/x-python",
   "name": "python",
   "nbconvert_exporter": "python",
   "pygments_lexer": "ipython3",
   "version": "3.8.19"
  }
 },
 "nbformat": 4,
 "nbformat_minor": 2
}
